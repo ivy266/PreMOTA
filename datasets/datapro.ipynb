{
 "cells": [
  {
   "cell_type": "code",
   "execution_count": 2,
   "metadata": {},
   "outputs": [],
   "source": [
    "import pandas as pd\n",
    "import numpy as np"
   ]
  },
  {
   "cell_type": "code",
   "execution_count": 3,
   "metadata": {},
   "outputs": [
    {
     "name": "stdout",
     "output_type": "stream",
     "text": [
      "(2102767, 4)\n"
     ]
    },
    {
     "data": {
      "text/html": [
       "<div>\n",
       "<style scoped>\n",
       "    .dataframe tbody tr th:only-of-type {\n",
       "        vertical-align: middle;\n",
       "    }\n",
       "\n",
       "    .dataframe tbody tr th {\n",
       "        vertical-align: top;\n",
       "    }\n",
       "\n",
       "    .dataframe thead th {\n",
       "        text-align: right;\n",
       "    }\n",
       "</style>\n",
       "<table border=\"1\" class=\"dataframe\">\n",
       "  <thead>\n",
       "    <tr style=\"text-align: right;\">\n",
       "      <th></th>\n",
       "      <th>uniprot_id</th>\n",
       "      <th>smiles</th>\n",
       "      <th>label</th>\n",
       "      <th>canonical_smiles</th>\n",
       "    </tr>\n",
       "  </thead>\n",
       "  <tbody>\n",
       "    <tr>\n",
       "      <th>0</th>\n",
       "      <td>Q7X1P7</td>\n",
       "      <td>CO[C@@H]1[C@@H](OC(N)=O)[C@@H](O)[C@H](Oc2ccc3...</td>\n",
       "      <td>0</td>\n",
       "      <td>CO[C@@H]1[C@@H](OC(N)=O)[C@@H](O)[C@H](Oc2ccc3...</td>\n",
       "    </tr>\n",
       "    <tr>\n",
       "      <th>1</th>\n",
       "      <td>Q7X1P7</td>\n",
       "      <td>CCNC(=O)Nc1cn2c(-c3ncc(C(F)(F)F)cn3)cc(-c3cccn...</td>\n",
       "      <td>1</td>\n",
       "      <td>CCNC(=O)Nc1cn2c(-c3ncc(C(F)(F)F)cn3)cc(-c3cccn...</td>\n",
       "    </tr>\n",
       "  </tbody>\n",
       "</table>\n",
       "</div>"
      ],
      "text/plain": [
       "  uniprot_id                                             smiles  label  \\\n",
       "0     Q7X1P7  CO[C@@H]1[C@@H](OC(N)=O)[C@@H](O)[C@H](Oc2ccc3...      0   \n",
       "1     Q7X1P7  CCNC(=O)Nc1cn2c(-c3ncc(C(F)(F)F)cn3)cc(-c3cccn...      1   \n",
       "\n",
       "                                    canonical_smiles  \n",
       "0  CO[C@@H]1[C@@H](OC(N)=O)[C@@H](O)[C@H](Oc2ccc3...  \n",
       "1  CCNC(=O)Nc1cn2c(-c3ncc(C(F)(F)F)cn3)cc(-c3cccn...  "
      ]
     },
     "execution_count": 3,
     "metadata": {},
     "output_type": "execute_result"
    }
   ],
   "source": [
    "cpi_df = pd.read_csv('/home/datahouse1/liujin/CPI_offtarget/datasets/CPI_data_cls/raw_data/all_cpi_data_pro_final2.csv')\n",
    "print(cpi_df.shape)\n",
    "cpi_df.head(2)"
   ]
  },
  {
   "cell_type": "code",
   "execution_count": 4,
   "metadata": {},
   "outputs": [
    {
     "name": "stdout",
     "output_type": "stream",
     "text": [
      "7258\n",
      "1255941\n",
      "1312725\n",
      "(2102767, 4)\n"
     ]
    }
   ],
   "source": [
    "print(cpi_df['uniprot_id'].nunique())\n",
    "print(cpi_df['canonical_smiles'].nunique())\n",
    "print(cpi_df['smiles'].nunique()) #不同的smiles，可能对应相同的canonical_smiles\n",
    "\n",
    "cpi_df2 = cpi_df.drop_duplicates(subset=['uniprot_id', 'smiles']) #(2102767, 5)\n",
    "print(cpi_df2.shape)"
   ]
  },
  {
   "cell_type": "code",
   "execution_count": 5,
   "metadata": {},
   "outputs": [
    {
     "name": "stdout",
     "output_type": "stream",
     "text": [
      "7258\n"
     ]
    }
   ],
   "source": [
    "#读取蛋白质序列文件，txt格式\n",
    "import json\n",
    "protein_seq = json.load(open('/home/datahouse1/liujin/CPI_offtarget/datasets/CPI_data_cls/raw_data/protein_id_seq_new.txt', 'r'))\n",
    "print(len(protein_seq))"
   ]
  },
  {
   "cell_type": "markdown",
   "metadata": {},
   "source": [
    "#### 将数据修改为模型所需要的格式"
   ]
  },
  {
   "cell_type": "code",
   "execution_count": 6,
   "metadata": {},
   "outputs": [
    {
     "name": "stdout",
     "output_type": "stream",
     "text": [
      "1255941\n",
      "1255941\n"
     ]
    }
   ],
   "source": [
    "compound_list = cpi_df['canonical_smiles'].unique()\n",
    "print(len(compound_list)) #化合物数目为1181909\n",
    "#给每一条smiles进行编号\n",
    "compound_dict_id = {}\n",
    "# for i in range(len(compound_list)):\n",
    "#     id = 'compound_'+str(i)\n",
    "#     compound_dict_id[compound_list[i]] = id\n",
    "# print(len(compound_dict_id))\n",
    "for i in range(len(compound_list)):\n",
    "    id = 'compound_'+str(i)\n",
    "    compound_dict_id[id] = compound_list[i]\n",
    "print(len(compound_dict_id))"
   ]
  },
  {
   "cell_type": "code",
   "execution_count": 7,
   "metadata": {},
   "outputs": [],
   "source": [
    "#把化合物id字典写入txt文件中\n",
    "#将化合物id列表写入txt文件\n",
    "# 这里存的字典，键是id，值是smiles\n",
    "with open('/home/datahouse1/liujin/CPI_offtarget/datasets/CPI_data_cls/train/compounds.txt','w') as f:\n",
    "    json.dump(compound_dict_id,f)"
   ]
  },
  {
   "cell_type": "code",
   "execution_count": 10,
   "metadata": {},
   "outputs": [
    {
     "name": "stdout",
     "output_type": "stream",
     "text": [
      "1255941\n"
     ]
    },
    {
     "data": {
      "text/html": [
       "<div>\n",
       "<style scoped>\n",
       "    .dataframe tbody tr th:only-of-type {\n",
       "        vertical-align: middle;\n",
       "    }\n",
       "\n",
       "    .dataframe tbody tr th {\n",
       "        vertical-align: top;\n",
       "    }\n",
       "\n",
       "    .dataframe thead th {\n",
       "        text-align: right;\n",
       "    }\n",
       "</style>\n",
       "<table border=\"1\" class=\"dataframe\">\n",
       "  <thead>\n",
       "    <tr style=\"text-align: right;\">\n",
       "      <th></th>\n",
       "      <th>uniprot_id</th>\n",
       "      <th>smiles</th>\n",
       "      <th>label</th>\n",
       "      <th>canonical_smiles</th>\n",
       "      <th>comp_id</th>\n",
       "    </tr>\n",
       "  </thead>\n",
       "  <tbody>\n",
       "    <tr>\n",
       "      <th>0</th>\n",
       "      <td>Q7X1P7</td>\n",
       "      <td>CO[C@@H]1[C@@H](OC(N)=O)[C@@H](O)[C@H](Oc2ccc3...</td>\n",
       "      <td>0</td>\n",
       "      <td>CO[C@@H]1[C@@H](OC(N)=O)[C@@H](O)[C@H](Oc2ccc3...</td>\n",
       "      <td>compound_0</td>\n",
       "    </tr>\n",
       "    <tr>\n",
       "      <th>1</th>\n",
       "      <td>Q7X1P7</td>\n",
       "      <td>CCNC(=O)Nc1cn2c(-c3ncc(C(F)(F)F)cn3)cc(-c3cccn...</td>\n",
       "      <td>1</td>\n",
       "      <td>CCNC(=O)Nc1cn2c(-c3ncc(C(F)(F)F)cn3)cc(-c3cccn...</td>\n",
       "      <td>compound_1</td>\n",
       "    </tr>\n",
       "    <tr>\n",
       "      <th>2</th>\n",
       "      <td>Q7X1P7</td>\n",
       "      <td>CCC(=O)Nc1cn2c(-c3ncc(C)cn3)cc(-c3cccnc3)cc2n1</td>\n",
       "      <td>0</td>\n",
       "      <td>CCC(=O)Nc1cn2c(-c3ncc(C)cn3)cc(-c3cccnc3)cc2n1</td>\n",
       "      <td>compound_2</td>\n",
       "    </tr>\n",
       "    <tr>\n",
       "      <th>3</th>\n",
       "      <td>Q7X1P7</td>\n",
       "      <td>CCNC(=O)Nc1cn2c(-c3ncc(C)cn3)cc(-c3ccn(CCF)c(=...</td>\n",
       "      <td>0</td>\n",
       "      <td>CCNC(=O)Nc1cn2c(-c3ncc(C)cn3)cc(-c3ccn(CCF)c(=...</td>\n",
       "      <td>compound_3</td>\n",
       "    </tr>\n",
       "    <tr>\n",
       "      <th>4</th>\n",
       "      <td>Q7X1P7</td>\n",
       "      <td>CCNC(=O)Nc1cn2c(-c3ncc(C)cn3)cc(-c3ccn(CC)c(=O...</td>\n",
       "      <td>1</td>\n",
       "      <td>CCNC(=O)Nc1cn2c(-c3ncc(C)cn3)cc(-c3ccn(CC)c(=O...</td>\n",
       "      <td>compound_4</td>\n",
       "    </tr>\n",
       "  </tbody>\n",
       "</table>\n",
       "</div>"
      ],
      "text/plain": [
       "  uniprot_id                                             smiles  label  \\\n",
       "0     Q7X1P7  CO[C@@H]1[C@@H](OC(N)=O)[C@@H](O)[C@H](Oc2ccc3...      0   \n",
       "1     Q7X1P7  CCNC(=O)Nc1cn2c(-c3ncc(C(F)(F)F)cn3)cc(-c3cccn...      1   \n",
       "2     Q7X1P7     CCC(=O)Nc1cn2c(-c3ncc(C)cn3)cc(-c3cccnc3)cc2n1      0   \n",
       "3     Q7X1P7  CCNC(=O)Nc1cn2c(-c3ncc(C)cn3)cc(-c3ccn(CCF)c(=...      0   \n",
       "4     Q7X1P7  CCNC(=O)Nc1cn2c(-c3ncc(C)cn3)cc(-c3ccn(CC)c(=O...      1   \n",
       "\n",
       "                                    canonical_smiles     comp_id  \n",
       "0  CO[C@@H]1[C@@H](OC(N)=O)[C@@H](O)[C@H](Oc2ccc3...  compound_0  \n",
       "1  CCNC(=O)Nc1cn2c(-c3ncc(C(F)(F)F)cn3)cc(-c3cccn...  compound_1  \n",
       "2     CCC(=O)Nc1cn2c(-c3ncc(C)cn3)cc(-c3cccnc3)cc2n1  compound_2  \n",
       "3  CCNC(=O)Nc1cn2c(-c3ncc(C)cn3)cc(-c3ccn(CCF)c(=...  compound_3  \n",
       "4  CCNC(=O)Nc1cn2c(-c3ncc(C)cn3)cc(-c3ccn(CC)c(=O...  compound_4  "
      ]
     },
     "execution_count": 10,
     "metadata": {},
     "output_type": "execute_result"
    }
   ],
   "source": [
    "compound_id_smile_map = {}\n",
    "for i in range(len(compound_list)):\n",
    "    id = 'compound_'+str(i)\n",
    "    compound_id_smile_map[compound_list[i]] = id\n",
    "print(len(compound_id_smile_map))\n",
    "\n",
    "cpi_df['comp_id'] = cpi_df['canonical_smiles'].map(compound_id_smile_map) #这里用来映射的compound_dict_id键是smiles，值是id\n",
    "cpi_df.head(5)"
   ]
  },
  {
   "cell_type": "code",
   "execution_count": 11,
   "metadata": {},
   "outputs": [
    {
     "name": "stdout",
     "output_type": "stream",
     "text": [
      "(2102767, 3)\n"
     ]
    },
    {
     "data": {
      "text/html": [
       "<div>\n",
       "<style scoped>\n",
       "    .dataframe tbody tr th:only-of-type {\n",
       "        vertical-align: middle;\n",
       "    }\n",
       "\n",
       "    .dataframe tbody tr th {\n",
       "        vertical-align: top;\n",
       "    }\n",
       "\n",
       "    .dataframe thead th {\n",
       "        text-align: right;\n",
       "    }\n",
       "</style>\n",
       "<table border=\"1\" class=\"dataframe\">\n",
       "  <thead>\n",
       "    <tr style=\"text-align: right;\">\n",
       "      <th></th>\n",
       "      <th>uniprot_id</th>\n",
       "      <th>comp_id</th>\n",
       "      <th>label</th>\n",
       "    </tr>\n",
       "  </thead>\n",
       "  <tbody>\n",
       "    <tr>\n",
       "      <th>0</th>\n",
       "      <td>Q7X1P7</td>\n",
       "      <td>compound_0</td>\n",
       "      <td>0</td>\n",
       "    </tr>\n",
       "    <tr>\n",
       "      <th>1</th>\n",
       "      <td>Q7X1P7</td>\n",
       "      <td>compound_1</td>\n",
       "      <td>1</td>\n",
       "    </tr>\n",
       "    <tr>\n",
       "      <th>2</th>\n",
       "      <td>Q7X1P7</td>\n",
       "      <td>compound_2</td>\n",
       "      <td>0</td>\n",
       "    </tr>\n",
       "    <tr>\n",
       "      <th>3</th>\n",
       "      <td>Q7X1P7</td>\n",
       "      <td>compound_3</td>\n",
       "      <td>0</td>\n",
       "    </tr>\n",
       "    <tr>\n",
       "      <th>4</th>\n",
       "      <td>Q7X1P7</td>\n",
       "      <td>compound_4</td>\n",
       "      <td>1</td>\n",
       "    </tr>\n",
       "  </tbody>\n",
       "</table>\n",
       "</div>"
      ],
      "text/plain": [
       "  uniprot_id     comp_id  label\n",
       "0     Q7X1P7  compound_0      0\n",
       "1     Q7X1P7  compound_1      1\n",
       "2     Q7X1P7  compound_2      0\n",
       "3     Q7X1P7  compound_3      0\n",
       "4     Q7X1P7  compound_4      1"
      ]
     },
     "execution_count": 11,
     "metadata": {},
     "output_type": "execute_result"
    }
   ],
   "source": [
    "cpi_df_choose = cpi_df[['uniprot_id', 'comp_id', 'label']]\n",
    "print(cpi_df_choose.shape)\n",
    "cpi_df_choose.head(5)"
   ]
  },
  {
   "cell_type": "code",
   "execution_count": 12,
   "metadata": {},
   "outputs": [],
   "source": [
    "cpi_df_choose.to_csv('/home/datahouse1/liujin/CPI_offtarget/datasets/CPI_data_cls/train/affinity.tsv',sep='\\t', index=False)"
   ]
  },
  {
   "cell_type": "code",
   "execution_count": 13,
   "metadata": {},
   "outputs": [
    {
     "name": "stdout",
     "output_type": "stream",
     "text": [
      "2102768\n"
     ]
    }
   ],
   "source": [
    "affinity = open('/home/datahouse1/liujin/CPI_offtarget/datasets/CPI_data_cls/train/affinity.tsv','r').readlines()\n",
    "print(len(affinity))"
   ]
  }
 ],
 "metadata": {
  "kernelspec": {
   "display_name": "cpi",
   "language": "python",
   "name": "python3"
  },
  "language_info": {
   "codemirror_mode": {
    "name": "ipython",
    "version": 3
   },
   "file_extension": ".py",
   "mimetype": "text/x-python",
   "name": "python",
   "nbconvert_exporter": "python",
   "pygments_lexer": "ipython3",
   "version": "3.8.0"
  }
 },
 "nbformat": 4,
 "nbformat_minor": 2
}
